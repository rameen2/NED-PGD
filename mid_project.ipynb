{
  "nbformat": 4,
  "nbformat_minor": 0,
  "metadata": {
    "colab": {
      "provenance": [],
      "authorship_tag": "ABX9TyM7O2rTafeFsIrpO2tY8R2D",
      "include_colab_link": true
    },
    "kernelspec": {
      "name": "python3",
      "display_name": "Python 3"
    },
    "language_info": {
      "name": "python"
    }
  },
  "cells": [
    {
      "cell_type": "markdown",
      "metadata": {
        "id": "view-in-github",
        "colab_type": "text"
      },
      "source": [
        "<a href=\"https://colab.research.google.com/github/rameen2/NED-PGD/blob/main/mid_project.ipynb\" target=\"_parent\"><img src=\"https://colab.research.google.com/assets/colab-badge.svg\" alt=\"Open In Colab\"/></a>"
      ]
    },
    {
      "cell_type": "code",
      "execution_count": null,
      "metadata": {
        "id": "dN48ZS9wVJKk"
      },
      "outputs": [],
      "source": [
        "import tkinter as tk\n",
        "from googletrans import Translator\n",
        "\n",
        "def translate_text():\n",
        "    text_to_translate = input_text.get(\"1.0\", \"end-1c\")\n",
        "    translator = Translator()\n",
        "    translated_text = translator.translate(text_to_translate, dest=destination_language.get()).text\n",
        "    output_text.delete(\"1.0\", \"end\")\n",
        "    output_text.insert(\"1.0\", translated_text)\n",
        "\n",
        "# Create a tkinter window\n",
        "window = tk.Tk()\n",
        "window.title(\"Language Translator\")\n",
        "\n",
        "# Input text widget\n",
        "input_label = tk.Label(window, text=\"Enter text to translate:\")\n",
        "input_label.pack()\n",
        "input_text = tk.Text(window, height=5, width=40)\n",
        "input_text.pack()\n",
        "\n",
        "# Destination language dropdown\n",
        "destination_label = tk.Label(window, text=\"Select destination language:\")\n",
        "destination_label.pack()\n",
        "destination_language = tk.StringVar()\n",
        "destination_language.set(\"en\")  # Default language is English\n",
        "language_options = [\"English\", \"Urdu\", \"French\", \"Hindi\", \"Arabic\"]  # Add more languages as needed\n",
        "destination_dropdown = tk.OptionMenu(window, destination_language, *language_options)\n",
        "destination_dropdown.pack()\n",
        "\n",
        "# Translate button\n",
        "translate_button = tk.Button(window, text=\"Translate\", command=translate_text)\n",
        "translate_button.pack()\n",
        "\n",
        "# Output text widget\n",
        "output_label = tk.Label(window, text=\"Translated text:\")\n",
        "output_label.pack()\n",
        "output_text = tk.Text(window, height=10, width=50 )\n",
        "output_text.pack()\n",
        "\n",
        "# Start the tkinter main loop\n",
        "window.mainloop()"
      ]
    }
  ]
}