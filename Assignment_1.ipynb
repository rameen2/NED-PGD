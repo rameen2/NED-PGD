{
  "nbformat": 4,
  "nbformat_minor": 0,
  "metadata": {
    "colab": {
      "provenance": [],
      "authorship_tag": "ABX9TyP5PsUeRsRulC17C9eosDmB",
      "include_colab_link": true
    },
    "kernelspec": {
      "name": "python3",
      "display_name": "Python 3"
    },
    "language_info": {
      "name": "python"
    }
  },
  "cells": [
    {
      "cell_type": "markdown",
      "metadata": {
        "id": "view-in-github",
        "colab_type": "text"
      },
      "source": [
        "<a href=\"https://colab.research.google.com/github/rameen2/NED-PGD/blob/main/Assignment_1.ipynb\" target=\"_parent\"><img src=\"https://colab.research.google.com/assets/colab-badge.svg\" alt=\"Open In Colab\"/></a>"
      ]
    },
    {
      "cell_type": "code",
      "execution_count": null,
      "metadata": {
        "id": "J0YjqtsMSUwK"
      },
      "outputs": [],
      "source": [
        "# print hello world program 1\n",
        "\n",
        "a= \"hello world\"\n",
        "print(a)\n",
        "# print hello world using dictionary program 2\n",
        "\n",
        "my_dict={\"value\":\"Hello world\"}\n",
        "print(my_dict[\"value\"])\n",
        "# concatenate hello world  program 3\n",
        "\n",
        "a= \"Hello\"\n",
        "b=\"world\"\n",
        "\n",
        "c= a + \" \" +b\n",
        "print(c)\n",
        "Hello world\n",
        "# program 4\n",
        "\n",
        "a=[\"hello world\"]\n",
        "print(a)\n",
        "['hello world']\n",
        "# program 5\n",
        "\n",
        "a=\"hello world\"\n",
        "for _ in range (5):\n",
        "    print(a)\n",
        "hello world\n",
        "hello world\n",
        "hello world\n",
        "hello world\n",
        "hello world\n",
        "a= int(input(\"enter and number: \"))\n",
        "while (a<39):\n",
        "    print(a)\n",
        "    a= int(input(\"enter and number: \"))\n",
        "    print (a)\n",
        "enter and number: 3\n",
        "3\n",
        "enter and number: 3\n",
        "3\n",
        "3\n",
        "enter and number: 399\n",
        "399\n",
        "count =5\n",
        "while(count>0):\n",
        "    print (count)\n",
        "    count=count-1\n",
        "5\n",
        "4\n",
        "3\n",
        "2\n",
        "1\n",
        "name =input(\"Enter your name\")\n",
        "\n",
        "while name.isalpha() == False:\n",
        "\n",
        "    print(\"its a mandatory filed please enter\")\n",
        "    name =input(\"Enter your name\")\n",
        "else:\n",
        "  print(\"your name is \", name )\n",
        "Enter your name\n",
        "its a mandatory filed please enter\n",
        "Enter your name\n",
        "its a mandatory filed please enter\n",
        "Enter your name22\n",
        "its a mandatory filed please enter\n",
        "Enter your name22\n",
        "its a mandatory filed please enter"
      ]
    }
  ]
}