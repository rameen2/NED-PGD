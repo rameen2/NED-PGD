{
  "nbformat": 4,
  "nbformat_minor": 0,
  "metadata": {
    "colab": {
      "provenance": [],
      "authorship_tag": "ABX9TyOuNYDxAFG9TQL8weV+qeNC",
      "include_colab_link": true
    },
    "kernelspec": {
      "name": "python3",
      "display_name": "Python 3"
    },
    "language_info": {
      "name": "python"
    }
  },
  "cells": [
    {
      "cell_type": "markdown",
      "metadata": {
        "id": "view-in-github",
        "colab_type": "text"
      },
      "source": [
        "<a href=\"https://colab.research.google.com/github/rameen2/NED-PGD/blob/main/Assignment_4_advanced_Regular_Expression_py.ipynb\" target=\"_parent\"><img src=\"https://colab.research.google.com/assets/colab-badge.svg\" alt=\"Open In Colab\"/></a>"
      ]
    },
    {
      "cell_type": "markdown",
      "source": [
        "**Advanced Regular Expression**\n",
        "\n",
        "Advanced regular expressions (regex or regexp) are patterns used for matching and manipulating strings. They are a powerful tool for text processing, data extraction, and validation.\n",
        " Here are some advanced regex concepts and techniques:\n",
        "\n",
        "**Grouping and Capturing:** Parentheses ( ) are used to group parts of a regular expression together. This is useful for capturing specific parts of a matched string. For example, (abc)+ captures repeated sequences of \"abc.\"\n",
        "\n",
        "**Backreferences:** You can refer to captured groups within the same regex pattern using backreferences. For example, (abc)\\1 matches \"abcabc\" because \\1 refers to the first captured group.\n",
        "\n",
        "**Non-Capturing Groups:** Sometimes, you want to group without capturing. You can use (?: ) to create non-capturing groups. For example, (?:abc)+ matches \"abcabc\" but doesn't capture it.\n",
        "\n",
        "**Lookahead and Lookbehind:** bold text Lookahead ((?= )) and lookbehind ((?<= )) assertions allow you to check for conditions ahead of or behind the current position in the string without consuming characters. They are useful for complex matching scenarios.\n",
        "\n",
        "**Anchors:** Anchors like ^ (start of line) and $ (end of line) are used to specify where a match should occur within a string. For example, ^abc matches \"abc\" only at the start of a line.\n",
        "\n",
        "**Quantifiers:** Quantifiers specify how many times a character or group should be repeated. Common quantifiers include * (0 or more), + (1 or more), ? (0 or 1), {n} (exactly n times), and {n, m} (between n and m times).\n",
        "\n",
        "**Character Classes:** Character classes like [a-z] match any single character within the specified range. You can negate a character class using [^ ], which matches any character not in the specified range.\n",
        "\n",
        "**Alternation:** The pipe symbol | is used for alternation, allowing you to match multiple patterns. For example, cat|dog matches either \"cat\" or \"dog.\"\n",
        "\n",
        "**Modifiers:** Regex modifiers like i (case-insensitive), g (global search), and m (multiline mode) affect how a regex pattern is applied to a string.\n",
        "\n",
        "**Escaping:** Special characters like ., *, +, ?, [, ], (, ), {, }, |, ^, $, \\, and others need to be escaped with a backslash \\ to be treated as literal characters in the pattern.\n",
        "\n",
        "**Named Capture Groups:** Some regex flavors support naming capture groups, making it easier to extract specific information from matches.\n",
        "\n",
        "**Greedy vs. Non-Greedy:** By default, quantifiers are greedy, meaning they match as much as possible. You can make them non-greedy by adding ? after the quantifier, like *? or +?.\n",
        "\n",
        "**Recursion:** Some advanced regex flavors support recursion, allowing you to match nested patterns, such as nested parentheses.\n",
        "\n"
      ],
      "metadata": {
        "id": "DXFsqLAQ1qN_"
      }
    },
    {
      "cell_type": "markdown",
      "source": [
        "**Assignment 1: Extracting Phone Numbers**\n",
        "\n",
        "Raw Text: Extract all valid Pakistani phone numbers from a given text.\n",
        "\n",
        "Example:\n",
        "\n",
        "Text: Please contact me at 0301-1234567 or 042-35678901 for further details."
      ],
      "metadata": {
        "id": "Rpqa7pmL3eHD"
      }
    },
    {
      "cell_type": "code",
      "source": [
        " #re module, which is used for regular expressions.\n",
        "import re\n",
        "# Sample text\n",
        "text = \"Please contact me at 0301-1234567 or 042-35678901 for further details.\"\n",
        "\n",
        "# Define a regex pattern for Pakistani phone numbers\n",
        "#pattern-> four-digit area code followed by a hyphen and seven digits (for mobile numbers)\n",
        "# or a three-digit area code followed by a hyphen and eight digits (for landline numbers)\n",
        "# The \\b at the beginning and end ensures that we match complete words (phone numbers)\n",
        "pattern = r'\\b(?:\\d{4}-\\d{7}|\\d{3}-\\d{8})\\b'\n",
        "\n",
        "# Find all matches in the text\n",
        "matches = re.findall(pattern, text)\n",
        "\n",
        "# Print the extracted phone numbers\n",
        "for match in matches:\n",
        "    print(match)"
      ],
      "metadata": {
        "colab": {
          "base_uri": "https://localhost:8080/"
        },
        "id": "N-syC3uU33ME",
        "outputId": "855c5b16-7c2f-45c0-f28b-6a49074bc5c9"
      },
      "execution_count": 1,
      "outputs": [
        {
          "output_type": "stream",
          "name": "stdout",
          "text": [
            "0301-1234567\n",
            "042-35678901\n"
          ]
        }
      ]
    },
    {
      "cell_type": "markdown",
      "source": [
        "**Assignment 2: Validating Email Addresses**\n",
        "\n",
        "Raw Text: Validate email addresses according to Pakistani domain extensions (.pk).\n",
        "\n",
        "Example:\n",
        "\n",
        "Text: Contact us at info@example.com or support@domain.pk for assistance."
      ],
      "metadata": {
        "id": "mwZpJoYv6QFX"
      }
    },
    {
      "cell_type": "code",
      "source": [
        "import re\n",
        "text = \"Contact us at info@example.com or support@domain.pk for assistance\"\n",
        "\n",
        "pattern = r'\\b[A-Za-z0-9._%+-]+@[A-Za-z0-9.-]+\\.[A-Za-z]{2,7}\\b'\n",
        "matches = re.findall(pattern, text)\n",
        "for match in matches:\n",
        "    print(match)"
      ],
      "metadata": {
        "colab": {
          "base_uri": "https://localhost:8080/"
        },
        "id": "rBDCtHVx6Vgp",
        "outputId": "3f1c21fa-512a-4642-bf15-d0023266eee6"
      },
      "execution_count": 17,
      "outputs": [
        {
          "output_type": "stream",
          "name": "stdout",
          "text": [
            "info@example.com\n",
            "support@domain.pk\n"
          ]
        }
      ]
    },
    {
      "cell_type": "markdown",
      "source": [
        "**Assignment 4: Identifying Urdu Words**\n",
        "\n",
        "Raw Text: Identify and extract Urdu words from a mixed English-Urdu text.\n",
        "\n",
        "Example:\n",
        "\n",
        "Text: یہ sentence میں کچھ English words بھی ہیں۔"
      ],
      "metadata": {
        "id": "WwT6WAqG9mQ3"
      }
    },
    {
      "cell_type": "code",
      "source": [
        "import re\n",
        "text = \"یہ sentence میں کچھ English words بھی ہیں۔\"\n",
        "\n",
        "# \\u0600 represents the starting Unicode character in the Urdu script\n",
        "# \\u06FF represents the ending Unicode character in the Urdu script\n",
        "pattern = r'[\\u0600-\\u06FF]+'\n",
        "\n",
        "# Find all matches in the text\n",
        "matches = re.findall(pattern, text)\n",
        "\n",
        "# Print the extracted Urdu words\n",
        "for match in matches:\n",
        "    print(match)"
      ],
      "metadata": {
        "colab": {
          "base_uri": "https://localhost:8080/"
        },
        "id": "LLngTIqv96Hh",
        "outputId": "d883890f-0d5c-4981-c85b-436fd68b7a0a"
      },
      "execution_count": 8,
      "outputs": [
        {
          "output_type": "stream",
          "name": "stdout",
          "text": [
            "یہ\n",
            "میں\n",
            "کچھ\n",
            "بھی\n",
            "ہیں۔\n"
          ]
        }
      ]
    },
    {
      "cell_type": "markdown",
      "source": [
        "**Assignment 5: Finding Dates**\n",
        "\n",
        "Raw Text: Find and extract dates in the format DD-MM-YYYY from a given text.\n",
        "\n",
        "Example:\n",
        "\n",
        "Text: The event will take place on 15-08-2023 and 23-09-2023."
      ],
      "metadata": {
        "id": "z-n7H7OcBPhf"
      }
    },
    {
      "cell_type": "code",
      "source": [
        "import re\n",
        "text = \"The event will take place on 15-08-2023 and 23-09-2023\"\n",
        "pattern = r'\\b(?:\\d{2}-\\d{2}-\\d{4}|d{2}-\\d{2}-\\d{4})\\b'\n",
        "matches = re.findall(pattern, text)\n",
        "for match in matches:\n",
        "  print(match)\n"
      ],
      "metadata": {
        "colab": {
          "base_uri": "https://localhost:8080/"
        },
        "id": "oQJJr9S_BYHg",
        "outputId": "ad9c97e6-a331-4ee6-d0cc-36fce0961a52"
      },
      "execution_count": 7,
      "outputs": [
        {
          "output_type": "stream",
          "name": "stdout",
          "text": [
            "15-08-2023\n",
            "23-09-2023\n"
          ]
        }
      ]
    },
    {
      "cell_type": "markdown",
      "source": [
        "**Assignment 6: Extracting URLs**\n",
        "\n",
        "Raw Text: Extract all URLs from a text that belong to Pakistani domains.\n",
        "\n",
        "Example:\n",
        "\n",
        "Text: Visit http://www.example.pk or https://website.com.pk for more information."
      ],
      "metadata": {
        "id": "2y2LPpEZCvWf"
      }
    },
    {
      "cell_type": "code",
      "source": [
        "import re\n",
        "text = \"Visit http://www.example.pk or https://website.com.pk for more information.\"\n",
        "pattern = r'\\b(?:https?://\\S+)\\b'\n",
        "matches = re.findall(pattern,text)\n",
        "for match in matches:\n",
        " print(match)\n"
      ],
      "metadata": {
        "colab": {
          "base_uri": "https://localhost:8080/"
        },
        "id": "9Bn2qkhKDEDH",
        "outputId": "69e5243f-cf31-45b9-ebe1-ffaed2e5723e"
      },
      "execution_count": 15,
      "outputs": [
        {
          "output_type": "stream",
          "name": "stdout",
          "text": [
            "http://www.example.pk\n",
            "https://website.com.pk\n"
          ]
        }
      ]
    },
    {
      "cell_type": "markdown",
      "source": [
        "**Assignment 7: Analyzing Currency**\n",
        "\n",
        "Raw Text: Extract and analyze currency amounts in Pakistani Rupees (PKR) from a given text.\n",
        "\n",
        "Example:\n",
        "\n",
        "Text: The product costs PKR 1500, while the deluxe version is priced at Rs. 2500."
      ],
      "metadata": {
        "id": "vQUmjPprFzak"
      }
    },
    {
      "cell_type": "code",
      "source": [
        "import re\n",
        "text = \"The product costs PKR 1500, while the deluxe version is priced at Rs. 2500.\"\n",
        "pattern = r'PKR\\s(\\d+(?:,\\d{3})*(?:\\.\\d{2})?)'\n",
        "matches = re. findall(pattern, text)\n",
        "\n",
        "amounts = [float(match.replace(',', '')) for match in matches]\n",
        "total_amount = sum(amounts)\n",
        "average_amount = total_amount / len(amounts) if len(amounts) > 0 else 0\n",
        "\n",
        "print(\"Extracted PKR amounts:\", matches)\n",
        "print(\"Total PKR amount:\", total_amount)\n",
        "print(\"Average PKR amount:\", average_amount)"
      ],
      "metadata": {
        "colab": {
          "base_uri": "https://localhost:8080/"
        },
        "id": "b5UfXXwXF72X",
        "outputId": "3f01d4ec-67b8-4785-aaa6-d88161f78cb8"
      },
      "execution_count": 18,
      "outputs": [
        {
          "output_type": "stream",
          "name": "stdout",
          "text": [
            "Extracted PKR amounts: ['1500']\n",
            "Total PKR amount: 1500.0\n",
            "Average PKR amount: 1500.0\n"
          ]
        }
      ]
    },
    {
      "cell_type": "markdown",
      "source": [
        "**Assignment 8: Removing Punctuation**\n",
        "\n",
        "Raw Text: Remove all punctuation marks from a text while preserving Urdu characters.\n",
        "\n",
        "Example:\n",
        "\n",
        "Text: کیا! آپ, یہاں؟"
      ],
      "metadata": {
        "id": "Ywm4O3kbJEVx"
      }
    },
    {
      "cell_type": "code",
      "source": [
        "import re\n",
        "text = \"کیا! آپ, یہاں؟\"\n",
        "pattern = r'[^\\w\\s\\u0600-\\u06FF]+'\n",
        "cleaned_text = re.sub(pattern, '', text)  # Remove punctuation marks from the text\n",
        "print(cleaned_text)"
      ],
      "metadata": {
        "colab": {
          "base_uri": "https://localhost:8080/"
        },
        "id": "tsCHBRisJPK9",
        "outputId": "0726bc50-a8f6-4c97-e89c-4f1d0396a56f"
      },
      "execution_count": 20,
      "outputs": [
        {
          "output_type": "stream",
          "name": "stdout",
          "text": [
            "کیا آپ یہاں؟\n"
          ]
        }
      ]
    },
    {
      "cell_type": "markdown",
      "source": [
        "**Assignment 9: Extracting City Names**\n",
        "\n",
        "Raw Text: Extract names of Pakistani cities from a given text.\n",
        "\n",
        "Example:\n",
        "\n",
        "Text: Lahore, Karachi, Islamabad, and Peshawar are major cities of Pakistan."
      ],
      "metadata": {
        "id": "yCcgr5uGJxB1"
      }
    },
    {
      "cell_type": "code",
      "source": [
        "import re\n",
        "text = \"Lahore, Karachi, Islamabad, and Peshawar are major cities of Pakistan.\"\n",
        "cities = [\"Lahore\", \"Karachi\", \"Islamabad\", \"Peshawar\", \"Rawalpindi\", \"Faisalabad\", \"Multan\", \"Gujranwala\", \"Quetta\", \"Sialkot\"]\n",
        "extracted_cities = []\n",
        "for city in cities:\n",
        "    if city in text:\n",
        "      extracted_cities.append(city)\n",
        "      print(extracted_cities)"
      ],
      "metadata": {
        "colab": {
          "base_uri": "https://localhost:8080/"
        },
        "id": "BOBck_ALJ4uU",
        "outputId": "6d0ceb84-192e-42bf-fef7-e5e981e14339"
      },
      "execution_count": 25,
      "outputs": [
        {
          "output_type": "stream",
          "name": "stdout",
          "text": [
            "['Lahore']\n",
            "['Lahore', 'Karachi']\n",
            "['Lahore', 'Karachi', 'Islamabad']\n",
            "['Lahore', 'Karachi', 'Islamabad', 'Peshawar']\n"
          ]
        }
      ]
    },
    {
      "cell_type": "markdown",
      "source": [
        "**Assignment 10: Analyzing Vehicle Numbers**\n",
        "\n",
        "Raw Text: Identify and extract Pakistani vehicle registration numbers (e.g., ABC-123) from a text.\n",
        "\n",
        "Example:\n",
        "\n",
        "Text: I saw a car with the number plate LEA-567 near the market."
      ],
      "metadata": {
        "id": "aXfnhQCYHker"
      }
    },
    {
      "cell_type": "code",
      "source": [
        "import re\n",
        "text = \"I saw a car with the number plate LEA-567 near the market.\"\n",
        "pattern = r'\\b[A-Z]{3}-\\d{3}\\b'\n",
        "matches = re.findall(pattern, text)\n",
        "for match in matches:\n",
        "  print(match)"
      ],
      "metadata": {
        "colab": {
          "base_uri": "https://localhost:8080/"
        },
        "id": "PDTw8aA6IM4X",
        "outputId": "dbeb0cd9-a20a-4fdd-8537-a4ba913289b3"
      },
      "execution_count": 19,
      "outputs": [
        {
          "output_type": "stream",
          "name": "stdout",
          "text": [
            "LEA-567\n"
          ]
        }
      ]
    }
  ]
}