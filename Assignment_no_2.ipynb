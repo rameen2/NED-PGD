{
  "nbformat": 4,
  "nbformat_minor": 0,
  "metadata": {
    "colab": {
      "provenance": [],
      "authorship_tag": "ABX9TyMCL/fSbRv++k/ElS3L6c5K",
      "include_colab_link": true
    },
    "kernelspec": {
      "name": "python3",
      "display_name": "Python 3"
    },
    "language_info": {
      "name": "python"
    }
  },
  "cells": [
    {
      "cell_type": "markdown",
      "metadata": {
        "id": "view-in-github",
        "colab_type": "text"
      },
      "source": [
        "<a href=\"https://colab.research.google.com/github/rameen2/NED-PGD/blob/main/Assignment_no_2.ipynb\" target=\"_parent\"><img src=\"https://colab.research.google.com/assets/colab-badge.svg\" alt=\"Open In Colab\"/></a>"
      ]
    },
    {
      "cell_type": "markdown",
      "source": [
        "**Assignment 1: String Concatenation and Formatting**\n",
        "\n",
        "**Instructions:**\n",
        "\n",
        "1. Create a variable `name` and assign your name to it.\n",
        "2. Create a variable `age` and assign your age to it.\n",
        "3. Create a variable `country` and assign your country of residence to it.\n",
        "4. Using the `+` operator, concatenate the variables to form a sentence in the following format: \"My name is `<name>`, I am `<age>` years old, and I live in `<country>`.\"\n",
        "5. Print the concatenated sentence."
      ],
      "metadata": {
        "id": "gjSt0PargU0S"
      }
    },
    {
      "cell_type": "code",
      "source": [
        "name = \"Rameen Yar Baig\"\n",
        "age = 25\n",
        "country = \"Pakistan\"\n",
        "\n",
        "# Concatenate the variables to form the sentence\n",
        "sentence = \"My name is \" + name + \", I am \" + str(age) + \" years old, and I live in \" + country + \".\"\n",
        "\n",
        "# Print the concatenated sentence\n",
        "print(sentence)\n"
      ],
      "metadata": {
        "colab": {
          "base_uri": "https://localhost:8080/"
        },
        "id": "qqFXC2qzgboe",
        "outputId": "df4a385e-d650-4f49-bae0-e32a9083e3cb"
      },
      "execution_count": 7,
      "outputs": [
        {
          "output_type": "stream",
          "name": "stdout",
          "text": [
            "My name is Rameen Yar Baig, I am 25 years old, and I live in Pakistan.\n"
          ]
        }
      ]
    },
    {
      "cell_type": "markdown",
      "source": [
        "**Assignment 2: String Formatting using `.format()` **bold text**\n",
        "**bold text**\n",
        "**Instructions:**\n",
        "\n",
        "1. Create a variable `item` and assign a product name to it (e.g., \"laptop\", \"book\", \"phone\").\n",
        "2. Create a variable `price` and assign a price to the item.\n",
        "3. Create a variable `quantity` and assign a quantity value.\n",
        "4. Calculate the total cost using the formula: `total_cost = price * quantity`.\n",
        "5. Using the `.format()` method, create a formatted string: \"I bought `<quantity>` `<item>`(s) at `<price>` each, for a total of $`<total_cost>`.\"\n",
        "6. Print the formatted string."
      ],
      "metadata": {
        "id": "dreSa3XWim3u"
      }
    },
    {
      "cell_type": "code",
      "source": [
        "# Product information\n",
        "item = \"books\"\n",
        "price = 50\n",
        "quantity = 5\n",
        "\n",
        "# To calculate the total cost\n",
        "total_cost = price * quantity\n",
        "\n",
        "# Formatted string\n",
        "formatted_string = f\"I bought {quantity} {item}(s) at ${price:.2f} each, for a total of ${total_cost:.2f}.\"\n",
        "#{price:.2f}, which tells Python to format the price variable as a floating-point number with exactly 2 decimal places.\n",
        "\n",
        "# Print the result\n",
        "print(formatted_string)"
      ],
      "metadata": {
        "colab": {
          "base_uri": "https://localhost:8080/"
        },
        "id": "xNzcEA9AivXQ",
        "outputId": "ceeb9f59-94d7-4c29-ecff-869418b8a909"
      },
      "execution_count": 29,
      "outputs": [
        {
          "output_type": "stream",
          "name": "stdout",
          "text": [
            "I bought 5 books(s) at $50.00 each, for a total of $250.00.\n"
          ]
        }
      ]
    },
    {
      "cell_type": "code",
      "source": [
        "item = \"phone\"\n",
        "price = 9999.99\n",
        "quantity = 2\n",
        "\n",
        "# To calculate the total cost\n",
        "total_cost = price * quantity\n",
        "\n",
        "# Formatted string using .format()\n",
        "formatted_string = \"I bought {} {}(s) at {} each, for a total of ${:.2f}.\".format(quantity, item, price, total_cost)\n",
        "\n",
        "print(formatted_string)"
      ],
      "metadata": {
        "colab": {
          "base_uri": "https://localhost:8080/"
        },
        "id": "C_aA1EFoqPlq",
        "outputId": "e50becc6-b1fa-4921-d159-cc51e97b3cfe"
      },
      "execution_count": 30,
      "outputs": [
        {
          "output_type": "stream",
          "name": "stdout",
          "text": [
            "I bought 2 phone(s) at 9999.99 each, for a total of $19999.98.\n"
          ]
        }
      ]
    },
    {
      "cell_type": "markdown",
      "source": [
        "**Assignment 3: String Interpolation using `f''`\n",
        "\n",
        "**Instructions:**\n",
        "\n",
        "1. Create a variable `city` and assign the name of a city.\n",
        "2. Create a variable `temperature` and assign a temperature value in Celsius.\n",
        "3. Using `f''` string interpolation, create a string: \"The temperature in `<city>` is `<temperature>`°C.\"\n",
        "4. Print the interpolated string.\n"
      ],
      "metadata": {
        "id": "zKVZTDMVrlSx"
      }
    },
    {
      "cell_type": "code",
      "source": [
        "city = \"Hunza\"\n",
        "temperature = -5\n",
        "Weather_update = f\"The temperature in {city} is {temperature}°C.\""
      ],
      "metadata": {
        "id": "07h_-XJEroCJ"
      },
      "execution_count": 36,
      "outputs": []
    },
    {
      "cell_type": "markdown",
      "source": [
        "**Assignment 4: String Formatting using `%()` **bold text**\n",
        "\n",
        "**Instructions:**\n",
        "\n",
        "1. Create a variable `first_name` and assign your first name to it.\n",
        "2. Create a variable `last_name` and assign your last name to it.\n",
        "3. Create a variable `birth_year` and assign your birth year.\n",
        "4. Calculate your age using the formula: `age = current_year - birth_year`, where `current_year` is the current year.\n",
        "5. Using `%()` string formatting, create a string: \"My name is %(first_name)s %(last_name)s. I am %(age)d years old.\"\n",
        "6. Print the formatted string.\n"
      ],
      "metadata": {
        "id": "EhihYcf7tL7a"
      }
    },
    {
      "cell_type": "code",
      "source": [
        "first_name =\"Rameen Yar\"\n",
        "last_name =\"Baig\"\n",
        "birth_year = 1998\n",
        "\n",
        "# To calculate age:\n",
        "current_year = 2023  # Replace with the current year\n",
        "age = current_year - birth_year\n",
        "\n",
        "# Formatted string using % string formatting:\n",
        "string_formatting = \"My name is %(first_name)s %(last_name)s. I am %(age)d years old.\" % {\n",
        "    'first_name': first_name,\n",
        "    'last_name': last_name,\n",
        "    'age': age\n",
        "}\n",
        "print(string_formatting)"
      ],
      "metadata": {
        "colab": {
          "base_uri": "https://localhost:8080/"
        },
        "id": "qFHiTM22t6fu",
        "outputId": "563aa443-f261-4432-9ba7-874d10f22bf8"
      },
      "execution_count": 44,
      "outputs": [
        {
          "output_type": "stream",
          "name": "stdout",
          "text": [
            "My name is Rameen Yar Baig. I am 25 years old.\n"
          ]
        }
      ]
    },
    {
      "cell_type": "markdown",
      "source": [
        "**Assignment 5: Combining Formatting Methods**\n",
        "\n",
        "**Instructions:**\n",
        "\n",
        "1. Create a variable `product` and assign a product name.\n",
        "2. Create a variable `discount` and assign a discount percentage.\n",
        "3. Create a variable `original_price` and assign an original price.\n",
        "4. Calculate the discounted price using the formula: `discounted_price = original_price * (1 - discount / 100)`.\n",
        "5. Using any combination of string formatting methods (`+`, `.format()`, `f''`, `%()`), create a descriptive string with the product name, original price, discount percentage, and discounted price.\n",
        "6. Print the descriptive string.\n"
      ],
      "metadata": {
        "id": "43tyWsEg2LUA"
      }
    },
    {
      "cell_type": "code",
      "source": [
        "product = \"LED\"\n",
        "discount = 5\n",
        "original_price = 150000\n",
        "\n",
        "# To calculate the discounted price using the formula:\n",
        "discounted_price = original_price *(1 - discount / 100)\n",
        "\n",
        "# descriptive string using string formatting:\n",
        "descriptive_string = \"Product: {}\\nOriginal Price: ${:.2f}\\nDiscount: {}%\\nDiscounted Price: ${:.2f}\".format(product, original_price, discount, discounted_price)\n",
        "\n",
        "print(descriptive_string)\n"
      ],
      "metadata": {
        "colab": {
          "base_uri": "https://localhost:8080/"
        },
        "id": "VlIxcm1Z2UMQ",
        "outputId": "1b1e4b13-549e-4709-8d15-78b528831275"
      },
      "execution_count": 50,
      "outputs": [
        {
          "output_type": "stream",
          "name": "stdout",
          "text": [
            "Product: LED\n",
            "Original Price: $150000.00\n",
            "Discount: 5%\n",
            "Discounted Price: $142500.00\n"
          ]
        }
      ]
    }
  ]
}